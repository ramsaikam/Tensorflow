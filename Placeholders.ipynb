{
 "cells": [
  {
   "cell_type": "markdown",
   "metadata": {},
   "source": [
    "It is variable but we will assign data at the later stage,the below two examples will give right picture"
   ]
  },
  {
   "cell_type": "code",
   "execution_count": 1,
   "metadata": {},
   "outputs": [
    {
     "name": "stdout",
     "output_type": "stream",
     "text": [
      "[ 3.  4.  5.]\n"
     ]
    }
   ],
   "source": [
    "import tensorflow as tf\n",
    "x=tf.placeholder(\"float\",shape=None)##we dont know how many rows or columns are taking\n",
    "y=x+2\n",
    "\n",
    "with tf.Session() as sess:\n",
    "    result=sess.run(y,feed_dict={x:[1,2,3]})\n",
    "    print(result)"
   ]
  },
  {
   "cell_type": "code",
   "execution_count": 2,
   "metadata": {},
   "outputs": [
    {
     "name": "stdout",
     "output_type": "stream",
     "text": [
      "[[ 3.  4.  5.]\n",
      " [ 6.  7.  8.]]\n"
     ]
    }
   ],
   "source": [
    "import tensorflow as tf\n",
    "x=tf.placeholder(\"float\",shape=[None,3])##we dont row numbers and 3 columns should be taken\n",
    "y=x+2\n",
    "\n",
    "with tf.Session() as sess:\n",
    "    result=sess.run(y,feed_dict={x:[[1,2,3],[4,5,6]]})\n",
    "    print(result)"
   ]
  }
 ],
 "metadata": {
  "kernelspec": {
   "display_name": "Python 3",
   "language": "python",
   "name": "python3"
  },
  "language_info": {
   "codemirror_mode": {
    "name": "ipython",
    "version": 3
   },
   "file_extension": ".py",
   "mimetype": "text/x-python",
   "name": "python",
   "nbconvert_exporter": "python",
   "pygments_lexer": "ipython3",
   "version": "3.6.1"
  }
 },
 "nbformat": 4,
 "nbformat_minor": 2
}
